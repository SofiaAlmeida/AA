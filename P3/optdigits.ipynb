{
 "cells": [
  {
   "cell_type": "code",
   "execution_count": 1,
   "metadata": {},
   "outputs": [
    {
     "data": {
      "text/plain": [
       "'\\n  Sofía Almeida Bruno\\n  https://archive.ics.uci.edu/ml/datasets/optical+recognition+of+handwritten+digits\\n'"
      ]
     },
     "execution_count": 1,
     "metadata": {},
     "output_type": "execute_result"
    }
   ],
   "source": [
    "\"\"\"\n",
    "  Sofía Almeida Bruno\n",
    "  https://archive.ics.uci.edu/ml/datasets/optical+recognition+of+handwritten+digits\n",
    "\"\"\""
   ]
  },
  {
   "cell_type": "code",
   "execution_count": 2,
   "metadata": {},
   "outputs": [],
   "source": [
    "import numpy as np\n",
    "from sklearn.pipeline import Pipeline\n",
    "from sklearn.preprocessing import StandardScaler\n",
    "from sklearn.preprocessing import PolynomialFeatures\n",
    "from sklearn.feature_selection import SelectFromModel\n",
    "from sklearn.linear_model import LassoCV\n",
    "from sklearn.linear_model import LogisticRegression\n",
    "from sklearn.model_selection import GridSearchCV\n",
    "from sklearn.metrics import accuracy_score"
   ]
  },
  {
   "cell_type": "code",
   "execution_count": 3,
   "metadata": {},
   "outputs": [],
   "source": [
    "# Leemos los datos de los ficheros\n",
    "train = np.genfromtxt('./datos/optdigits.tra',  delimiter = \",\")\n",
    "test = np.genfromtxt('./datos/optdigits.tes',  delimiter = \",\")"
   ]
  },
  {
   "cell_type": "code",
   "execution_count": 4,
   "metadata": {},
   "outputs": [],
   "source": [
    "X_train = train[:,0:-1]\n",
    "y_train = train[:,-1]\n",
    "X_test= test[:,0:-1]\n",
    "y_test = test[:,-1]"
   ]
  },
  {
   "cell_type": "code",
   "execution_count": 5,
   "metadata": {},
   "outputs": [
    {
     "name": "stderr",
     "output_type": "stream",
     "text": [
      "[Parallel(n_jobs=-1)]: Using backend ThreadingBackend with 8 concurrent workers.\n",
      "..............................................................................................................................................................................................................................................................................................................................................................................................................................................................................................................[Parallel(n_jobs=-1)]: Done   2 out of   5 | elapsed:  1.7min remaining:  2.6min\n",
      "......[Parallel(n_jobs=-1)]: Done   5 out of   5 | elapsed:  1.8min finished\n"
     ]
    }
   ],
   "source": [
    "# Preprocesado----------------------------------------------------------\n",
    "\n",
    "# Añadimos complejidad al modelo\n",
    "poly = PolynomialFeatures(2)\n",
    "\n",
    "# Seleccionamos variables utilizando lasso\n",
    "lasso = LassoCV(n_jobs = -1, max_iter = 55000, verbose = True, cv = 5)\n",
    "\n",
    "preprocessing = Pipeline(steps=[\n",
    "    ('poly', poly),\n",
    "    ('scale',StandardScaler()),\n",
    "    ('lasso', SelectFromModel(lasso)),\n",
    "])\n",
    "\n",
    "X_train = preprocessing.fit_transform(X_train, y_train)"
   ]
  },
  {
   "cell_type": "code",
   "execution_count": 6,
   "metadata": {},
   "outputs": [
    {
     "data": {
      "text/plain": [
       "(3823, 657)"
      ]
     },
     "execution_count": 6,
     "metadata": {},
     "output_type": "execute_result"
    }
   ],
   "source": [
    "X_train.shape"
   ]
  },
  {
   "cell_type": "code",
   "execution_count": 7,
   "metadata": {},
   "outputs": [],
   "source": [
    "# Ajuste de parámetros\n",
    "def adjust_params(X, y, model, params):\n",
    "    print(\"------ Grid Search...\")\n",
    "    grid = GridSearchCV(model, params, cv=5, n_jobs=-1, verbose=1, scoring='accuracy')\n",
    "    grid.fit(X, y)\n",
    "    print(\"Mejores parámetros:\")\n",
    "    print(grid.best_params_)\n",
    "    print(\"Error CV\")\n",
    "    print(grid.best_score_)\n",
    "    \n",
    "    print(\"Grid scores:\")\n",
    "    print()\n",
    "    means = grid.cv_results_['mean_test_score']\n",
    "    stds = grid.cv_results_['std_test_score']\n",
    "    for mean, std, params in zip(means, stds, grid.cv_results_['params']):\n",
    "        print(\"%05f (+/-%0.00005f) for %r\"\n",
    "              % (mean, std * 2, params))\n",
    "    print()\n",
    "    \n",
    "    return grid.best_estimator_"
   ]
  },
  {
   "cell_type": "code",
   "execution_count": 8,
   "metadata": {},
   "outputs": [
    {
     "name": "stdout",
     "output_type": "stream",
     "text": [
      "------ Grid Search...\n",
      "Fitting 5 folds for each of 9 candidates, totalling 45 fits\n"
     ]
    },
    {
     "name": "stderr",
     "output_type": "stream",
     "text": [
      "[Parallel(n_jobs=-1)]: Using backend LokyBackend with 8 concurrent workers.\n",
      "[Parallel(n_jobs=-1)]: Done  45 out of  45 | elapsed: 17.4min finished\n"
     ]
    },
    {
     "name": "stdout",
     "output_type": "stream",
     "text": [
      "Mejores parámetros:\n",
      "{'C': 0.5, 'max_iter': 500}\n",
      "Error CV\n",
      "0.9803836019573623\n",
      "Grid scores:\n",
      "\n",
      "0.979338 (+/-0.00968) for {'C': 0.5, 'max_iter': 250}\n",
      "0.980384 (+/-0.00738) for {'C': 0.5, 'max_iter': 500}\n",
      "0.980384 (+/-0.00858) for {'C': 0.5, 'max_iter': 1000}\n",
      "0.979338 (+/-0.00968) for {'C': 1.0, 'max_iter': 250}\n",
      "0.980122 (+/-0.00763) for {'C': 1.0, 'max_iter': 500}\n",
      "0.980384 (+/-0.00858) for {'C': 1.0, 'max_iter': 1000}\n",
      "0.979338 (+/-0.00968) for {'C': 2.0, 'max_iter': 250}\n",
      "0.980122 (+/-0.00763) for {'C': 2.0, 'max_iter': 500}\n",
      "0.980384 (+/-0.00858) for {'C': 2.0, 'max_iter': 1000}\n",
      "\n"
     ]
    },
    {
     "name": "stderr",
     "output_type": "stream",
     "text": [
      "/home/sofia/.local/lib/python3.8/site-packages/sklearn/linear_model/_sag.py:329: ConvergenceWarning: The max_iter was reached which means the coef_ did not converge\n",
      "  warnings.warn(\"The max_iter was reached which means \"\n"
     ]
    }
   ],
   "source": [
    "lreg = LogisticRegression(penalty = 'l2', tol=0.0001, random_state=123456, solver='saga', multi_class='multinomial', n_jobs=-1)\n",
    "params_lreg =  {'C':[0.5, 1.0, 2.0], 'max_iter':[250, 500, 1000]}\n",
    "\n",
    "best_lreg = adjust_params(X_train, y_train, lreg, params_lreg)"
   ]
  },
  {
   "cell_type": "code",
   "execution_count": 9,
   "metadata": {},
   "outputs": [
    {
     "name": "stdout",
     "output_type": "stream",
     "text": [
      "Accuracy obtenido en test: 0.966055\n",
      "Error obtenido en test: 0.033945\n"
     ]
    }
   ],
   "source": [
    "# Preprocesamos el conjunto de test \n",
    "X_test = preprocessing.transform(X_test)\n",
    "\n",
    "# Utilizando el mejor modelo predecimos el valor de X_test\n",
    "y_pred = best_lreg.predict(X_test)\n",
    "acc = accuracy_score(y_test, y_pred)\n",
    "print(\"Accuracy obtenido en test: {:.6f}\".format(acc))\n",
    "print(\"Error obtenido en test: {:.6f}\".format(1 - acc))"
   ]
  },
  {
   "cell_type": "code",
   "execution_count": 18,
   "metadata": {
    "scrolled": true
   },
   "outputs": [
    {
     "data": {
      "image/png": "[encoded data removed]",
      "text/plain": [
       "<Figure size 720x720 with 2 Axes>"
      ]
     },
     "metadata": {
      "needs_background": "light"
     },
     "output_type": "display_data"
    }
   ],
   "source": [
    "from sklearn.metrics import plot_confusion_matrix\n",
    "import matplotlib.pyplot as plt\n",
    "fig, ax = plt.subplots(figsize=(10,10))\n",
    "plot_confusion_matrix(best_lreg, X_test, y_test, normalize = 'true', cmap = 'BuPu', ax = ax)\n",
    "plt.savefig('./fig/conf_mat.pdf')"
   ]
  },
  {
   "cell_type": "code",
   "execution_count": null,
   "metadata": {},
   "outputs": [],
   "source": []
  }
 ],
 "metadata": {
  "kernelspec": {
   "display_name": "Python 3",
   "language": "python",
   "name": "python3"
  },
  "language_info": {
   "codemirror_mode": {
    "name": "ipython",
    "version": 3
   },
   "file_extension": ".py",
   "mimetype": "text/x-python",
   "name": "python",
   "nbconvert_exporter": "python",
   "pygments_lexer": "ipython3",
   "version": "3.8.2"
  }
 },
 "nbformat": 4,
 "nbformat_minor": 4
}
