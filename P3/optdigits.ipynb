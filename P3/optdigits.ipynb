{
 "cells": [
  {
   "cell_type": "code",
   "execution_count": 1,
   "metadata": {},
   "outputs": [
    {
     "data": {
      "text/plain": [
       "'\\n  Sofía Almeida Bruno\\n  https://archive.ics.uci.edu/ml/datasets/optical+recognition+of+handwritten+digits\\n'"
      ]
     },
     "execution_count": 1,
     "metadata": {},
     "output_type": "execute_result"
    }
   ],
   "source": [
    "\"\"\"\n",
    "  Sofía Almeida Bruno\n",
    "  https://archive.ics.uci.edu/ml/datasets/optical+recognition+of+handwritten+digits\n",
    "\"\"\""
   ]
  },
  {
   "cell_type": "code",
   "execution_count": 17,
   "metadata": {},
   "outputs": [],
   "source": [
    "import numpy as np\n",
    "from sklearn.pipeline import Pipeline\n",
    "from sklearn.preprocessing import StandardScaler\n",
    "from sklearn.preprocessing import PolynomialFeatures\n",
    "from sklearn.feature_selection import SelectFromModel\n",
    "from sklearn.linear_model import LassoCV\n",
    "from sklearn.linear_model import LogisticRegression\n",
    "from sklearn.model_selection import GridSearchCV\n",
    "from sklearn.metrics import accuracy_score"
   ]
  },
  {
   "cell_type": "code",
   "execution_count": 7,
   "metadata": {},
   "outputs": [],
   "source": [
    "# Leemos los datos de los ficheros\n",
    "train = np.genfromtxt('./datos/optdigits.tra',  delimiter = \",\")\n",
    "test = np.genfromtxt('./datos/optdigits.tes',  delimiter = \",\")"
   ]
  },
  {
   "cell_type": "code",
   "execution_count": 8,
   "metadata": {},
   "outputs": [],
   "source": [
    "X_train = train[:,0:-1]\n",
    "y_train = train[:,-1]\n",
    "X_test= test[:,0:-1]\n",
    "y_test = test[:,-1]"
   ]
  },
  {
   "cell_type": "code",
   "execution_count": 9,
   "metadata": {},
   "outputs": [
    {
     "name": "stderr",
     "output_type": "stream",
     "text": [
      "[Parallel(n_jobs=-1)]: Using backend ThreadingBackend with 8 concurrent workers.\n",
      "..................................................................................................................................................................................................................................................................................................................................................................................................................................................................................................................[Parallel(n_jobs=-1)]: Done   2 out of   5 | elapsed:  1.4min remaining:  2.0min\n",
      "..[Parallel(n_jobs=-1)]: Done   5 out of   5 | elapsed:  1.4min finished\n"
     ]
    }
   ],
   "source": [
    "# Preprocesado----------------------------------------------------------\n",
    "\n",
    "# Añadimos complejidad al modelo\n",
    "poly = PolynomialFeatures(2)\n",
    "\n",
    "# Seleccionamos variables utilizando lasso\n",
    "lasso = LassoCV(n_jobs = -1, max_iter = 55000, verbose = True, cv = 5)\n",
    "\n",
    "preprocessing = Pipeline(steps=[\n",
    "    ('poly', poly),\n",
    "    ('scale',StandardScaler()),\n",
    "    ('lasso', SelectFromModel(lasso)),\n",
    "])\n",
    "\n",
    "X_train = preprocessing.fit_transform(X_train, y_train)"
   ]
  },
  {
   "cell_type": "code",
   "execution_count": 10,
   "metadata": {},
   "outputs": [
    {
     "data": {
      "text/plain": [
       "(3823, 657)"
      ]
     },
     "execution_count": 10,
     "metadata": {},
     "output_type": "execute_result"
    }
   ],
   "source": [
    "X_train.shape"
   ]
  },
  {
   "cell_type": "code",
   "execution_count": 23,
   "metadata": {},
   "outputs": [],
   "source": [
    "# Ajuste de parámetros\n",
    "def adjust_params(X, y, model, params):\n",
    "    print(\"------ Grid Search...\")\n",
    "    grid = GridSearchCV(model, params, cv=5, n_jobs=-1, verbose=1, scoring='accuracy')\n",
    "    grid.fit(X, y)\n",
    "    print(\"Mejores parámetros:\")\n",
    "    print(grid.best_params_)\n",
    "    print(\"Error CV\")\n",
    "    print(-grid.best_score_)\n",
    "    return grid.best_estimator_"
   ]
  },
  {
   "cell_type": "code",
   "execution_count": null,
   "metadata": {},
   "outputs": [
    {
     "name": "stdout",
     "output_type": "stream",
     "text": [
      "------ Grid Search...\n",
      "Fitting 5 folds for each of 18 candidates, totalling 90 fits\n"
     ]
    },
    {
     "name": "stderr",
     "output_type": "stream",
     "text": [
      "[Parallel(n_jobs=-1)]: Using backend LokyBackend with 8 concurrent workers.\n"
     ]
    }
   ],
   "source": [
    "lreg = LogisticRegression(tol=0.0001, random_state=123456, solver='saga', max_iter=100, multi_class='multinomial', n_jobs=-1)\n",
    "params_lreg =  {'penalty':['none','l2'], 'C':[0.5, 1.0, 2.0], 'max_iter':[5000,10000,15000]}\n",
    "\n",
    "best_lreg = adjust_params(X_train, y_train, lreg, params_lreg)"
   ]
  },
  {
   "cell_type": "code",
   "execution_count": null,
   "metadata": {},
   "outputs": [],
   "source": []
  }
 ],
 "metadata": {
  "kernelspec": {
   "display_name": "Python 3",
   "language": "python",
   "name": "python3"
  },
  "language_info": {
   "codemirror_mode": {
    "name": "ipython",
    "version": 3
   },
   "file_extension": ".py",
   "mimetype": "text/x-python",
   "name": "python",
   "nbconvert_exporter": "python",
   "pygments_lexer": "ipython3",
   "version": "3.8.2"
  }
 },
 "nbformat": 4,
 "nbformat_minor": 4
}
